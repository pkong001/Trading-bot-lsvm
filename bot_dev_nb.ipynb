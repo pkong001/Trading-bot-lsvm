{
 "cells": [
  {
   "cell_type": "code",
   "execution_count": null,
   "metadata": {},
   "outputs": [],
   "source": [
    "import MetaTrader5 as mt5\n",
    "import pandas as pd\n",
    "import time\n",
    "from datetime import datetime\n",
    "from account_credentials import LOGIN, PASSWORD, SERVER\n",
    "import plotly.express as px"
   ]
  },
  {
   "cell_type": "code",
   "execution_count": null,
   "metadata": {},
   "outputs": [],
   "source": [
    "mt5.initialize()\n",
    "login = LOGIN\n",
    "password = PASSWORD\n",
    "server = SERVER\n",
    "mt5.login(login, password, server)"
   ]
  },
  {
   "cell_type": "code",
   "execution_count": null,
   "metadata": {},
   "outputs": [],
   "source": [
    "# getting account info\n",
    "account_info = mt5.account_info()\n",
    "print(account_info)\n",
    "\n",
    "# getting specific account data\n",
    "login_number = account_info.login\n",
    "balance = account_info.balance\n",
    "equity = account_info.equity\n",
    "\n",
    "print()\n",
    "print('login: ', login_number)\n",
    "print('balance: ', balance)\n",
    "print('equity: ', equity)"
   ]
  },
  {
   "cell_type": "code",
   "execution_count": null,
   "metadata": {},
   "outputs": [],
   "source": [
    "# get number of symbols with symbols_total()\n",
    "num_symbols = mt5.symbols_total()\n",
    "num_symbols"
   ]
  },
  {
   "cell_type": "code",
   "execution_count": null,
   "metadata": {},
   "outputs": [],
   "source": [
    "# get all symbols and their specifications\n",
    "symbols = mt5.symbols_get()\n",
    "\n",
    "all_symbols = []\n",
    "for symbol in symbols:\n",
    "    all_symbols.append(symbol.name)\n",
    "\n",
    "search_symbol = 'XAUUSD'\n",
    "if search_symbol in all_symbols:\n",
    "    print('{} is available'.format(search_symbol))\n",
    "else:\n",
    "    print('{} is not available',format(search_symbol))\n",
    "\n",
    "symbol = search_symbol"
   ]
  },
  {
   "cell_type": "code",
   "execution_count": null,
   "metadata": {},
   "outputs": [],
   "source": [
    "# to view the specific symbols details\n",
    "symbol_info = mt5.symbol_info_tick(symbol)._asdict()\n",
    "symbol_info"
   ]
  },
  {
   "cell_type": "code",
   "execution_count": null,
   "metadata": {},
   "outputs": [],
   "source": [
    "symbol = 'XAUUSD'\n",
    "timeframe = mt5.TIMEFRAME_H1\n",
    "volume = 0.5\n",
    "strategy_name = 'ma_trendfollowing'"
   ]
  },
  {
   "cell_type": "code",
   "execution_count": null,
   "metadata": {},
   "outputs": [],
   "source": [
    "# get candle stick data\n",
    "candle = pd.DataFrame(mt5.copy_rates_range(symbol,\n",
    "                                           timeframe,\n",
    "                                           datetime(2021,1,1),\n",
    "                                           datetime.now()\n",
    "                                           ))\n",
    "candle['time'] = pd.to_datetime(candle['time'], unit='s')\n",
    "\n",
    "fig = px.line(candle, x = candle['time'], y = candle['close'])\n",
    "fig.show()\n",
    "\n",
    "candle.head()"
   ]
  },
  {
   "cell_type": "code",
   "execution_count": null,
   "metadata": {},
   "outputs": [],
   "source": [
    "# get ticks  data\n",
    "tick_data = pd.DataFrame(mt5.copy_ticks_range(symbol,\n",
    "                                           datetime(2023,1,1),\n",
    "                                           datetime.now(),\n",
    "                                           mt5.COPY_TICKS_ALL\n",
    "                                           ))\n",
    "tick_data['time'] = pd.to_datetime(tick_data['time'], unit='s')\n",
    "\n",
    "# fig = px.line(tick_data, x=tick_data['time'], y = tick_data['bid'])\n",
    "# fig.show()\n",
    "\n",
    "print(len(tick_data))\n",
    "tick_data.head()"
   ]
  },
  {
   "cell_type": "code",
   "execution_count": null,
   "metadata": {},
   "outputs": [],
   "source": [
    "# get number of total open order, including pending order\n",
    "num_orders = mt5.orders_total()\n",
    "num_orders"
   ]
  },
  {
   "cell_type": "code",
   "execution_count": null,
   "metadata": {},
   "outputs": [],
   "source": [
    "# list of orders in details\n",
    "orders = mt5.orders_get()\n",
    "orders"
   ]
  },
  {
   "cell_type": "code",
   "execution_count": null,
   "metadata": {},
   "outputs": [],
   "source": [
    "# total number of positions\n",
    "num_positions = mt5.positions_total()\n",
    "num_positions"
   ]
  },
  {
   "cell_type": "code",
   "execution_count": null,
   "metadata": {},
   "outputs": [],
   "source": [
    "# position detailf\n",
    "positions = mt5.positions_get()\n",
    "positions"
   ]
  },
  {
   "cell_type": "code",
   "execution_count": null,
   "metadata": {},
   "outputs": [],
   "source": [
    "# Send order to the market\n",
    "# documentation: https://www.mql5.com/en/docs/python_metatrader5/mt5ordersend_py\n",
    "\n",
    "request = {\n",
    "    \"action\": mt5.TRADE_ACTION_DEAL,\n",
    "    \"symbol\": symbol,\n",
    "    \"volume\": 2.0, #float,\n",
    "    \"type\": mt5.ORDER_TYPE_BUY,\n",
    "    \"price\": mt5.symbol_info_tick(symbol).ask,\n",
    "    \"sl\": 0.0, # float\n",
    "    \"tp\": 0.0, # float\n",
    "    \"deviation\": 0, # integer\n",
    "    \"magic\": 123488, # integer\n",
    "    \"comment\": \"sent by python\",\n",
    "    \"type_time\": mt5.ORDER_TIME_GTC, # sometime this depend on broker\n",
    "    \"type_filling\": mt5.ORDER_FILLING_IOC, # sometime this depend on broker\n",
    "}\n",
    "order = mt5.order_send(request)\n",
    "print(order)"
   ]
  },
  {
   "cell_type": "code",
   "execution_count": null,
   "metadata": {},
   "outputs": [],
   "source": [
    "# Close order to the market\n",
    "# documentation: https://www.mql5.com/en/docs/python_metatrader5/mt5ordersend_py\n",
    "\n",
    "request = {\n",
    "    \"action\": mt5.TRADE_ACTION_DEAL,\n",
    "    \"symbol\": symbol,\n",
    "    \"volume\": 2.0, #float,\n",
    "    \"type\": mt5.ORDER_TYPE_SELL,\n",
    "    \"position\": 111111, # select the position you want to close\n",
    "    \"price\": mt5.symbol_info_tick(symbol).ask,\n",
    "    \"sl\": 0.0, # float\n",
    "    \"tp\": 0.0, # float\n",
    "    \"deviation\": 0, # integer\n",
    "    \"magic\": 123488, # integer\n",
    "    \"comment\": \"sent by python\",\n",
    "    \"type_time\": mt5.ORDER_TIME_GTC, # sometime this depend on broker\n",
    "    \"type_filling\": mt5.ORDER_FILLING_IOC, # sometime this depend on broker\n",
    "}\n",
    "order = mt5.order_send(request)\n",
    "print(order)"
   ]
  },
  {
   "cell_type": "markdown",
   "metadata": {},
   "source": [
    "# Start implementing"
   ]
  },
  {
   "cell_type": "markdown",
   "metadata": {},
   "source": [
    "#### Testing API"
   ]
  },
  {
   "cell_type": "code",
   "execution_count": null,
   "metadata": {},
   "outputs": [],
   "source": [
    "import requests\n",
    "\n",
    "url = \"http://127.0.0.1:5000/predict_api\" # replace with your API endpoint URL\n",
    "data = {\n",
    "\t\"data\": {\n",
    "\t\t\"open\": 1910,\n",
    "\t\t\"high\": 1920,\n",
    "\t\t\"low\": 1900,\n",
    "\t\t\"close\": 1913\n",
    "\t}\n",
    "} # replace with your JSON data\n",
    "\n",
    "response = requests.post(url, json=data)\n",
    "\n",
    "if response.status_code == 200:\n",
    "    print(\"POST request successful!\")\n",
    "    print(response.json())\n",
    "else:\n",
    "    print(\"POST request failed!\")\n",
    "    print(response.status_code)"
   ]
  },
  {
   "cell_type": "markdown",
   "metadata": {},
   "source": [
    "# Implementing"
   ]
  },
  {
   "cell_type": "code",
   "execution_count": null,
   "metadata": {},
   "outputs": [],
   "source": [
    "import MetaTrader5 as mt5\n",
    "import pandas as pd\n",
    "import time\n",
    "from datetime import datetime\n",
    "from account_credentials import LOGIN, PASSWORD, SERVER\n",
    "import plotly.express as px"
   ]
  },
  {
   "cell_type": "code",
   "execution_count": null,
   "metadata": {},
   "outputs": [],
   "source": [
    "symbol = 'XAUUSD'\n",
    "timeframe = mt5.TIMEFRAME_H1\n",
    "volume = 0.01\n",
    "strategy_name = 'ML_lsvm'"
   ]
  },
  {
   "cell_type": "code",
   "execution_count": null,
   "metadata": {},
   "outputs": [],
   "source": [
    "def check_allowed_trading_hours():\n",
    "    tick = mt5.symbol_info_tick(symbol)\n",
    "    # check the last price value to determine if the market is closed or available\n",
    "    if tick.last == 0:\n",
    "        #market close\n",
    "        return False\n",
    "    else:\n",
    "        #market open\n",
    "        return True"
   ]
  },
  {
   "cell_type": "code",
   "execution_count": null,
   "metadata": {},
   "outputs": [],
   "source": [
    "def market_order(symbol, volume, order_type, deviation=0, magic=123999):\n",
    "\n",
    "    order_type_dict = {\n",
    "        'buy': mt5.ORDER_TYPE_BUY,\n",
    "        'sell': mt5.ORDER_TYPE_SELL\n",
    "    }\n",
    "\n",
    "    price_dict = {\n",
    "        'buy': mt5.symbol_info_tick(symbol).ask,\n",
    "        'sell': mt5.symbol_info_tick(symbol).bid\n",
    "    }\n",
    "\n",
    "    if order_type == 'buy':\n",
    "        sl = mt5.symbol_info_tick(symbol).ask - 3\n",
    "        tp = mt5.symbol_info_tick(symbol).ask + 3.3\n",
    "    \n",
    "    if order_type == 'sell':\n",
    "        sl = mt5.symbol_info_tick(symbol).bid + 3\n",
    "        tp = mt5.symbol_info_tick(symbol).bid - 3.3\n",
    "\n",
    "    request = {\n",
    "        \"action\": mt5.TRADE_ACTION_DEAL,\n",
    "        \"symbol\": symbol,\n",
    "        \"volume\": volume,  # FLOAT\n",
    "        \"type\": order_type_dict[order_type],\n",
    "        \"price\": price_dict[order_type],\n",
    "        \"sl\": sl,  # FLOAT\n",
    "        \"tp\": tp,  # FLOAT\n",
    "        \"deviation\": deviation,  # INTERGER\n",
    "        \"magic\": magic,  # INTERGER\n",
    "        \"comment\": strategy_name,\n",
    "        \"type_time\": mt5.ORDER_TIME_GTC,\n",
    "        \"type_filling\": mt5.ORDER_FILLING_IOC,\n",
    "    }\n",
    "\n",
    "    order_result = mt5.order_send(request)\n",
    "    return(order_result)"
   ]
  },
  {
   "cell_type": "code",
   "execution_count": null,
   "metadata": {},
   "outputs": [],
   "source": [
    "def close_position(position, deviation=0, magic=123999):\n",
    "\n",
    "    order_type_dict = {\n",
    "        0: mt5.ORDER_TYPE_SELL,\n",
    "        1: mt5.ORDER_TYPE_BUY\n",
    "    }\n",
    "\n",
    "    price_dict = {\n",
    "        0: mt5.symbol_info_tick(symbol).bid,\n",
    "        1: mt5.symbol_info_tick(symbol).ask\n",
    "    }\n",
    "\n",
    "    request = {\n",
    "        \"action\": mt5.TRADE_ACTION_DEAL,\n",
    "        \"position\": position['ticket'],  # select the position you want to close\n",
    "        \"symbol\": symbol,\n",
    "        \"volume\": volume,  # FLOAT\n",
    "        \"type\": order_type_dict[position['type']],\n",
    "        \"price\": price_dict[position['type']],\n",
    "        \"deviation\": deviation,  # INTERGER\n",
    "        \"magic\": magic,  # INTERGER\n",
    "        \"comment\": strategy_name,\n",
    "        \"type_time\": mt5.ORDER_TIME_GTC,\n",
    "        \"type_filling\": mt5.ORDER_FILLING_IOC,\n",
    "    }\n",
    "\n",
    "    order_result = mt5.order_send(request)\n",
    "    return(order_result)\n",
    "\n",
    "def close_positions(order_type):\n",
    "    order_type_dict = {\n",
    "        'buy': 0,\n",
    "        'sell': 1\n",
    "    }\n",
    "\n",
    "    if mt5.positions_total() > 0:\n",
    "        positions = mt5.positions_get()\n",
    "\n",
    "        positions_df = pd.DataFrame(positions, columns=positions[0]._asdict().keys())\n",
    "\n",
    "        if order_type != 'all':\n",
    "            positions_df = positions_df[(positions_df['type'] == order_type_dict[order_type])]\n",
    "\n",
    "        for i, position in positions_df.iterrows():\n",
    "            order_result = close_position(position)\n",
    "\n",
    "            print('order_result: ', order_result)"
   ]
  },
  {
   "cell_type": "code",
   "execution_count": null,
   "metadata": {},
   "outputs": [],
   "source": [
    "if __name__ == '__main__':\n",
    "    is_initialized = mt5.initialize()\n",
    "    print('initialize: ', is_initialized)\n",
    "\n",
    "    is_logged_in = mt5.login(LOGIN, PASSWORD, SERVER)\n",
    "    print('logged in: ', is_logged_in)\n",
    "    print('\\n')"
   ]
  },
  {
   "cell_type": "code",
   "execution_count": 50,
   "metadata": {},
   "outputs": [
    {
     "data": {
      "text/plain": [
       "1"
      ]
     },
     "execution_count": 50,
     "metadata": {},
     "output_type": "execute_result"
    }
   ],
   "source": []
  },
  {
   "cell_type": "code",
   "execution_count": 52,
   "metadata": {},
   "outputs": [
    {
     "name": "stdout",
     "output_type": "stream",
     "text": [
      "Your already have a time_records file: CONTINUE\n"
     ]
    }
   ],
   "source": [
    "#### RUN ONCE TO CREATE A RECORD.CSV FILE\n",
    "time_records = pd.read_csv('time_records.csv')\n",
    "if len(time_records) > 0:\n",
    "    print('Your already have a time_records file: CONTINUE')\n",
    "else:\n",
    "    rates = mt5.copy_rates_from_pos(symbol, timeframe, 0, 1)\n",
    "    price_data = rates[0]\n",
    "    open_price = price_data[1]\n",
    "    high_price = price_data[2]\n",
    "    low_price = price_data[3]\n",
    "    close_price = price_data[4]\n",
    "    time_trade = datetime.fromtimestamp(price_data[0])\n",
    "\n",
    "    time_records = [time_trade]\n",
    "    records_df = pd.DataFrame({'time_records': time_records})\n",
    "    records_df.to_csv('time_records.csv', index=False)\n",
    "    print('Created a time_records file')"
   ]
  },
  {
   "cell_type": "code",
   "execution_count": null,
   "metadata": {},
   "outputs": [],
   "source": [
    "from datetime import datetime\n",
    "\n",
    "time_records = pd.read_csv('time_records.csv')\n",
    "while True:\n",
    "    account_info = mt5.account_info()\n",
    "    print(datetime.now(),\n",
    "            '| Login: ', account_info.login,\n",
    "            '| Balance: ', account_info.balance,\n",
    "            '| Equity: ' , account_info.equity)\n",
    "    num_positions = mt5.positions_total()\n",
    "    print('number of positions: ',num_positions)\n",
    "\n",
    "    if check_allowed_trading_hours() == False:\n",
    "        if num_positions > 0:\n",
    "            close_position('all')\n",
    "        print('Market for the symbol is currently closed')\n",
    "\n",
    "        time.sleep(2)\n",
    "\n",
    "    elif check_allowed_trading_hours() == True:\n",
    "        # get the latest bar information\n",
    "        rates = mt5.copy_rates_from_pos(symbol, timeframe, 0, 1)\n",
    "        price_data = rates[0]\n",
    "        open = price_data[1]\n",
    "        high = price_data[2]\n",
    "        low = price_data[3]\n",
    "        close = price_data[4]\n",
    "        time_trade = datetime.fromtimestamp(price_data[0])\n",
    "        print(\"open, high, low, close\", price_data[1],price_data[2],price_data[3],price_data[4])\n",
    "        print(\"Time:\", time_trade)\n",
    "\n",
    "        if time_trade not in time_records:\n",
    "            url = \"http://127.0.0.1:5000/predict_api\"\n",
    "\n",
    "            data = {\n",
    "                \"data\": {\n",
    "                    \"open\": open,\n",
    "                    \"high\": high,\n",
    "                    \"low\": low,\n",
    "                    \"close\": close\n",
    "                }\n",
    "            }\n",
    "            response = requests.post(url, json=data)\n",
    "\n",
    "            if response.status_code == 200:\n",
    "                prediction = response.json()\n",
    "                print(\"make a trade at: \", time_trade)\n",
    "                \n",
    "            else:\n",
    "                print(\"POST request failed!\")\n",
    "                print(response.status_code)\n",
    "\n",
    "            if prediction == 1:\n",
    "                order_result = market_order(symbol, volume, 'buy')\n",
    "                time_records.append(time_trade)\n",
    "                time_records.to_csv('time_records.csv')\n",
    "\n",
    "            time.sleep(2)\n",
    "    else:\n",
    "        raise ValueError('Failed on Checking market status')\n"
   ]
  }
 ],
 "metadata": {
  "kernelspec": {
   "display_name": "vbot",
   "language": "python",
   "name": "python3"
  },
  "language_info": {
   "codemirror_mode": {
    "name": "ipython",
    "version": 3
   },
   "file_extension": ".py",
   "mimetype": "text/x-python",
   "name": "python",
   "nbconvert_exporter": "python",
   "pygments_lexer": "ipython3",
   "version": "3.10.9"
  },
  "orig_nbformat": 4
 },
 "nbformat": 4,
 "nbformat_minor": 2
}
